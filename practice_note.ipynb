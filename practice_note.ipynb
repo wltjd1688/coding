{
  "nbformat": 4,
  "nbformat_minor": 0,
  "metadata": {
    "colab": {
      "provenance": [],
      "authorship_tag": "ABX9TyPy5x3QIemoGS59a0BH+brR",
      "include_colab_link": true
    },
    "kernelspec": {
      "name": "python3",
      "display_name": "Python 3"
    },
    "language_info": {
      "name": "python"
    }
  },
  "cells": [
    {
      "cell_type": "markdown",
      "metadata": {
        "id": "view-in-github",
        "colab_type": "text"
      },
      "source": [
        "<a href=\"https://colab.research.google.com/github/wltjd1688/coding/blob/master/practice_note.ipynb\" target=\"_parent\"><img src=\"https://colab.research.google.com/assets/colab-badge.svg\" alt=\"Open In Colab\"/></a>"
      ]
    },
    {
      "cell_type": "markdown",
      "source": [
        "# 백준 1065번 한수\n",
        "\n",
        "### 문제\n",
        "어떤 양의 정수 X의 각 자리가 등차수열을 이룬다면, 그 수를 한수라고 한다. 등차수열은 연속된 두 개의 수의 차이가 일정한 수열을 말한다. N이 주어졌을 때, 1보다 크거나 같고, N보다 작거나 같은 한수의 개수를 출력하는 프로그램을 작성하시오. \n",
        "\n",
        "### 입력\n",
        "첫째 줄에 1,000보다 작거나 같은 자연수 N이 주어진다.\n",
        "\n",
        "### 출력\n",
        "첫째 줄에 1보다 크거나 같고, N보다 작거나 같은 한수의 개수를 출력한다.\n"
      ],
      "metadata": {
        "id": "2EG9wkulX8rK"
      }
    },
    {
      "cell_type": "code",
      "execution_count": null,
      "metadata": {
        "colab": {
          "base_uri": "https://localhost:8080/"
        },
        "id": "KDIMPq-3Xu8Q",
        "outputId": "1d523575-fc1b-4bd8-8273-d5a76459b3a3"
      },
      "outputs": [
        {
          "output_type": "stream",
          "name": "stdout",
          "text": [
            "110\n",
            "99\n"
          ]
        }
      ],
      "source": [
        "def hansu(n):\n",
        "  if n<100:\n",
        "    return n\n",
        "  else:\n",
        "    result = 99\n",
        "    for i in range(100,n+1):\n",
        "      i_100 = i//100\n",
        "      i_10 = (i//10)%10\n",
        "      i_1 = i%10\n",
        "      if i_100 - i_10 == i_10 - i_1:\n",
        "        result += 1\n",
        "      else:\n",
        "        continue\n",
        "    return result\n",
        "\n",
        "N = int(input())\n",
        "print(hansu(N))"
      ]
    },
    {
      "cell_type": "markdown",
      "source": [
        "# 백준 2908번 상수\n",
        "## 문제\n",
        "상근이의 동생 상수는 수학을 정말 못한다. 상수는 숫자를 읽는데 문제가 있다. 이렇게 수학을 못하는 상수를 위해서 상근이는 수의 크기를 비교하는 문제를 내주었다. 상근이는 세 자리 수 두 개를 칠판에 써주었다. 그 다음에 크기가 큰 수를 말해보라고 했다.\n",
        "\n",
        "상수는 수를 다른 사람과 다르게 거꾸로 읽는다. 예를 들어, 734와 893을 칠판에 적었다면, 상수는 이 수를 437과 398로 읽는다. 따라서, 상수는 두 수중 큰 수인 437을 큰 수라고 말할 것이다.\n",
        "\n",
        "두 수가 주어졌을 때, 상수의 대답을 출력하는 프로그램을 작성하시오.\n",
        "\n",
        "## 입력\n",
        "첫째 줄에 상근이가 칠판에 적은 두 수 A와 B가 주어진다. 두 수는 같지 않은 세 자리 수이며, 0이 포함되어 있지 않다.\n",
        "\n",
        "## 출력\n",
        "첫째 줄에 상수의 대답을 출력한다."
      ],
      "metadata": {
        "id": "JAtBLO2ah-LN"
      }
    },
    {
      "cell_type": "code",
      "source": [
        "def Sanggeun(num1,num2):\n",
        "    num1_r = num1%10*100 + num1%100//10*10 + num1//100\n",
        "    num2_r = num2%10*100 + num2%100//10*10 + num2//100\n",
        "    if num1_r > num2_r:\n",
        "        return num1_r\n",
        "    else:\n",
        "        return num2_r\n",
        "\n",
        "n1,n2 = map(int,input().split())\n",
        "print(Sanggeun(n1,n2))"
      ],
      "metadata": {
        "colab": {
          "base_uri": "https://localhost:8080/"
        },
        "id": "fKiXpu1UiFwP",
        "outputId": "12345717-b021-4df3-b17a-1a9b66ac5670"
      },
      "execution_count": null,
      "outputs": [
        {
          "output_type": "stream",
          "name": "stdout",
          "text": [
            "101 100\n",
            "101\n"
          ]
        }
      ]
    },
    {
      "cell_type": "markdown",
      "source": [
        "# 백준 5622번 다이얼\n",
        "## 문제\n",
        "상근이의 할머니는 아래 그림과 같이 오래된 다이얼 전화기를 사용한다.\n",
        "\n",
        "\n",
        "\n",
        "전화를 걸고 싶은 번호가 있다면, 숫자를 하나를 누른 다음에 금속 핀이 있는 곳 까지 시계방향으로 돌려야 한다. 숫자를 하나 누르면 다이얼이 처음 위치로 돌아가고, 다음 숫자를 누르려면 다이얼을 처음 위치에서 다시 돌려야 한다.\n",
        "\n",
        "숫자 1을 걸려면 총 2초가 필요하다. 1보다 큰 수를 거는데 걸리는 시간은 이보다 더 걸리며, 한 칸 옆에 있는 숫자를 걸기 위해선 1초씩 더 걸린다.\n",
        "\n",
        "상근이의 할머니는 전화 번호를 각 숫자에 해당하는 문자로 외운다. 즉, 어떤 단어를 걸 때, 각 알파벳에 해당하는 숫자를 걸면 된다. 예를 들어, UNUCIC는 868242와 같다.\n",
        "\n",
        "할머니가 외운 단어가 주어졌을 때, 이 전화를 걸기 위해서 필요한 최소 시간을 구하는 프로그램을 작성하시오.\n",
        "\n",
        "## 입력\n",
        "첫째 줄에 알파벳 대문자로 이루어진 단어가 주어진다. 단어의 길이는 2보다 크거나 같고, 15보다 작거나 같다.\n",
        "\n",
        "## 출력\n",
        "첫째 줄에 다이얼을 걸기 위해서 필요한 최소 시간을 출력한다."
      ],
      "metadata": {
        "id": "7l5Fuawplzn_"
      }
    },
    {
      "cell_type": "code",
      "source": [
        "#단어 -> 숫자 -> 시간\n",
        "W = input()\n",
        "\n",
        "result = 0\n",
        "for i in W:\n",
        "    if ord(i)>=80 and ord(i)<=83:\n",
        "        result += 8\n",
        "    elif ord(i)>=84 and ord(i)<=86:\n",
        "        result += 9\n",
        "    elif ord(i)>=87:\n",
        "        result += 10\n",
        "    else:\n",
        "        result += ((ord(i)-65)//3)+3\n",
        "print(result)"
      ],
      "metadata": {
        "colab": {
          "base_uri": "https://localhost:8080/"
        },
        "id": "xjGMx9kHlzxv",
        "outputId": "923b3d61-6c02-4cdc-d95c-007d6b0b2900"
      },
      "execution_count": null,
      "outputs": [
        {
          "output_type": "stream",
          "name": "stdout",
          "text": [
            "UNUCIC\n",
            "36\n"
          ]
        }
      ]
    },
    {
      "cell_type": "markdown",
      "source": [
        "# 백준 2941번 크로아티아 알파벳 \n",
        "\n",
        "### 문제\n",
        "예전에는 운영체제에서 크로아티아 알파벳을 입력할 수가 없었다. 따라서, 다음과 같이 크로아티아 알파벳을 변경해서 입력했다.\n",
        "\n",
        "크로아티아 알파벳\t변경\n",
        "č\tc=\n",
        "ć\tc-\n",
        "dž\tdz=\n",
        "đ\td-\n",
        "lj\tlj\n",
        "nj\tnj\n",
        "š\ts=\n",
        "ž\tz=\n",
        "예를 들어, ljes=njak은 크로아티아 알파벳 6개(lj, e, š, nj, a, k)로 이루어져 있다. 단어가 주어졌을 때, 몇 개의 크로아티아 알파벳으로 이루어져 있는지 출력한다.\n",
        "\n",
        "dž는 무조건 하나의 알파벳으로 쓰이고, d와 ž가 분리된 것으로 보지 않는다. lj와 nj도 마찬가지이다. 위 목록에 없는 알파벳은 한 글자씩 센다.\n",
        "\n",
        "### 입력\n",
        "첫째 줄에 최대 100글자의 단어가 주어진다. 알파벳 소문자와 '-', '='로만 이루어져 있다.\n",
        "\n",
        "단어는 크로아티아 알파벳으로 이루어져 있다. 문제 설명의 표에 나와있는 알파벳은 변경된 형태로 입력된다.\n",
        "\n",
        "### 출력\n",
        "입력으로 주어진 단어가 몇 개의 크로아티아 알파벳으로 이루어져 있는지 출력한다."
      ],
      "metadata": {
        "id": "mMFVgVox_8Nq"
      }
    },
    {
      "cell_type": "code",
      "source": [
        "croatia = ['c=', 'c-', 'dz=', 'd-', 'lj', 'nj', 's=', 'z=']\n",
        "word = input()\n",
        "\n",
        "for i in croatia :\n",
        "    word = word.replace(i, '*')  # input 변수와 동일한 이름의 변수\n",
        "print(len(word))"
      ],
      "metadata": {
        "colab": {
          "base_uri": "https://localhost:8080/"
        },
        "id": "JPOikYvhADgS",
        "outputId": "9d2d85d3-806f-4580-dbd1-363065674c8d"
      },
      "execution_count": 79,
      "outputs": [
        {
          "output_type": "stream",
          "name": "stdout",
          "text": [
            "ddz=z=\n",
            "3\n"
          ]
        }
      ]
    },
    {
      "cell_type": "markdown",
      "source": [
        "# 백준 1316 그룹단어 체커\n",
        "## 문제\n",
        "그룹 단어란 단어에 존재하는 모든 문자에 대해서, 각 문자가 연속해서 나타나는 경우만을 말한다. 예를 들면, ccazzzzbb는 c, a, z, b가 모두 연속해서 나타나고, kin도 k, i, n이 연속해서 나타나기 때문에 그룹 단어이지만, aabbbccb는 b가 떨어져서 나타나기 때문에 그룹 단어가 아니다.\n",
        "\n",
        "단어 N개를 입력으로 받아 그룹 단어의 개수를 출력하는 프로그램을 작성하시오.\n",
        "\n",
        "## 입력\n",
        "첫째 줄에 단어의 개수 N이 들어온다. N은 100보다 작거나 같은 자연수이다. 둘째 줄부터 N개의 줄에 단어가 들어온다. 단어는 알파벳 소문자로만 되어있고 중복되지 않으며, 길이는 최대 100이다.\n",
        "\n",
        "## 출력\n",
        "첫째 줄에 그룹 단어의 개수를 출력한다."
      ],
      "metadata": {
        "id": "B5ZzHKY0OcJy"
      }
    },
    {
      "cell_type": "code",
      "source": [],
      "metadata": {
        "id": "A8OhESRjOj-Q"
      },
      "execution_count": null,
      "outputs": []
    }
  ]
}